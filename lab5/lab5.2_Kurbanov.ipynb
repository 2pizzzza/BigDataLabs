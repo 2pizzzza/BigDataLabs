{
 "cells": [
  {
   "cell_type": "code",
   "execution_count": 11,
   "id": "initial_id",
   "metadata": {
    "collapsed": true,
    "ExecuteTime": {
     "end_time": "2024-11-03T21:57:28.808492928Z",
     "start_time": "2024-11-03T21:57:28.791061841Z"
    }
   },
   "outputs": [],
   "source": [
    "import numpy as np\n",
    "import pandas as pd\n",
    "from sklearn.datasets import load_linnerud\n",
    "from sklearn.model_selection import train_test_split, GridSearchCV\n",
    "from sklearn.neighbors import KNeighborsRegressor\n",
    "from sklearn.linear_model import LinearRegression, Ridge, Lasso, LogisticRegression\n",
    "from sklearn.metrics import mean_squared_error, r2_score\n"
   ]
  },
  {
   "cell_type": "code",
   "outputs": [],
   "source": [
    "data = load_linnerud()\n",
    "X, y = data.data, data.target"
   ],
   "metadata": {
    "collapsed": false,
    "ExecuteTime": {
     "end_time": "2024-11-03T21:57:28.808774433Z",
     "start_time": "2024-11-03T21:57:28.806747766Z"
    }
   },
   "id": "1a4a49e759c0a32b",
   "execution_count": 12
  },
  {
   "cell_type": "code",
   "outputs": [],
   "source": [
    "X_train, X_test, y_train, y_test = train_test_split(X, y, test_size=0.2, random_state=42)"
   ],
   "metadata": {
    "collapsed": false,
    "ExecuteTime": {
     "end_time": "2024-11-03T21:57:28.824579343Z",
     "start_time": "2024-11-03T21:57:28.810790159Z"
    }
   },
   "id": "308ed14c70cc9070",
   "execution_count": 13
  },
  {
   "cell_type": "code",
   "outputs": [],
   "source": [
    "df = pd.DataFrame(X, columns=data.feature_names)\n",
    "df['target'] = y[:, 0] "
   ],
   "metadata": {
    "collapsed": false,
    "ExecuteTime": {
     "end_time": "2024-11-03T21:57:28.826150435Z",
     "start_time": "2024-11-03T21:57:28.817836013Z"
    }
   },
   "id": "7b735a5e2be2e250",
   "execution_count": 14
  },
  {
   "cell_type": "code",
   "outputs": [
    {
     "name": "stdout",
     "output_type": "stream",
     "text": [
      "   Chins  Situps  Jumps  target\n",
      "0    5.0   162.0   60.0   191.0\n",
      "1    2.0   110.0   60.0   189.0\n",
      "2   12.0   101.0  101.0   193.0\n",
      "3   12.0   105.0   37.0   162.0\n",
      "4   13.0   155.0   58.0   189.0\n",
      "           Chins      Situps      Jumps      target\n",
      "count  20.000000   20.000000   20.00000   20.000000\n",
      "mean    9.450000  145.550000   70.30000  178.600000\n",
      "std     5.286278   62.566575   51.27747   24.690505\n",
      "min     1.000000   50.000000   25.00000  138.000000\n",
      "25%     4.750000  101.000000   39.50000  160.750000\n",
      "50%    11.500000  122.500000   54.00000  176.000000\n",
      "75%    13.250000  210.000000   85.25000  191.500000\n",
      "max    17.000000  251.000000  250.00000  247.000000\n"
     ]
    }
   ],
   "source": [
    "print(df.head())\n",
    "print(df.describe())"
   ],
   "metadata": {
    "collapsed": false,
    "ExecuteTime": {
     "end_time": "2024-11-03T21:57:28.837430267Z",
     "start_time": "2024-11-03T21:57:28.824833355Z"
    }
   },
   "id": "531b67d13bcdb6dd",
   "execution_count": 15
  },
  {
   "cell_type": "raw",
   "source": [
    "Модель KNeighborsRegressor"
   ],
   "metadata": {
    "collapsed": false
   },
   "id": "d265b97d40e602a0"
  },
  {
   "cell_type": "code",
   "outputs": [
    {
     "name": "stdout",
     "output_type": "stream",
     "text": [
      "KNeighborsRegressor\n",
      "Лучшие параметры: {'n_neighbors': 7}\n",
      "MSE: 435.5612244897957\n",
      "R2: -0.5490063551537521\n"
     ]
    }
   ],
   "source": [
    "knn_params = {'n_neighbors': [3, 5, 7, 9]}\n",
    "knn = GridSearchCV(KNeighborsRegressor(), knn_params, cv=5)\n",
    "knn.fit(X_train, y_train[:, 0]) \n",
    "\n",
    "y_pred_knn = knn.predict(X_test)\n",
    "mse_knn = mean_squared_error(y_test[:, 0], y_pred_knn)\n",
    "r2_knn = r2_score(y_test[:, 0], y_pred_knn)\n",
    "\n",
    "print(\"KNeighborsRegressor\")\n",
    "print(\"Лучшие параметры:\", knn.best_params_)\n",
    "print(\"MSE:\", mse_knn)\n",
    "print(\"R2:\", r2_knn)"
   ],
   "metadata": {
    "collapsed": false,
    "ExecuteTime": {
     "end_time": "2024-11-03T21:57:28.877799866Z",
     "start_time": "2024-11-03T21:57:28.836776035Z"
    }
   },
   "id": "da5c890dd450e016",
   "execution_count": 16
  },
  {
   "cell_type": "markdown",
   "source": [
    "Модель LinearRegression"
   ],
   "metadata": {
    "collapsed": false
   },
   "id": "7c98350162b12600"
  },
  {
   "cell_type": "code",
   "outputs": [
    {
     "name": "stdout",
     "output_type": "stream",
     "text": [
      "LinearRegression\n",
      "MSE: 630.7757097870915\n",
      "R2: -1.243256580705371\n"
     ]
    }
   ],
   "source": [
    "lin_reg = LinearRegression()\n",
    "lin_reg.fit(X_train, y_train[:, 0])\n",
    "\n",
    "y_pred_lin = lin_reg.predict(X_test)\n",
    "mse_lin = mean_squared_error(y_test[:, 0], y_pred_lin)\n",
    "r2_lin = r2_score(y_test[:, 0], y_pred_lin)\n",
    "\n",
    "print(\"LinearRegression\")\n",
    "print(\"MSE:\", mse_lin)\n",
    "print(\"R2:\", r2_lin)"
   ],
   "metadata": {
    "collapsed": false,
    "ExecuteTime": {
     "end_time": "2024-11-03T21:57:28.878177623Z",
     "start_time": "2024-11-03T21:57:28.877247397Z"
    }
   },
   "id": "b9037ec0b616c6a1",
   "execution_count": 17
  },
  {
   "cell_type": "markdown",
   "source": [
    "Модель Ridge"
   ],
   "metadata": {
    "collapsed": false
   },
   "id": "e884590a686a496d"
  },
  {
   "cell_type": "code",
   "outputs": [
    {
     "name": "stdout",
     "output_type": "stream",
     "text": [
      "Ridge\n",
      "Лучшие параметры: {'alpha': 100}\n",
      "MSE: 600.4859253658086\n",
      "R2: -1.1355356314409732\n"
     ]
    }
   ],
   "source": [
    "ridge_params = {'alpha': [0.1, 1, 10, 100]}\n",
    "ridge = GridSearchCV(Ridge(), ridge_params, cv=5)\n",
    "ridge.fit(X_train, y_train[:, 0])\n",
    "\n",
    "y_pred_ridge = ridge.predict(X_test)\n",
    "mse_ridge = mean_squared_error(y_test[:, 0], y_pred_ridge)\n",
    "r2_ridge = r2_score(y_test[:, 0], y_pred_ridge)\n",
    "\n",
    "print(\"Ridge\")\n",
    "print(\"Лучшие параметры:\", ridge.best_params_)\n",
    "print(\"MSE:\", mse_ridge)\n",
    "print(\"R2:\", r2_ridge)"
   ],
   "metadata": {
    "collapsed": false,
    "ExecuteTime": {
     "end_time": "2024-11-03T21:57:28.897668460Z",
     "start_time": "2024-11-03T21:57:28.877393474Z"
    }
   },
   "id": "2e50e3df004b1d29",
   "execution_count": 18
  },
  {
   "cell_type": "markdown",
   "source": [
    "Модель Lasso"
   ],
   "metadata": {
    "collapsed": false
   },
   "id": "686f5c6b5bfec7ea"
  },
  {
   "cell_type": "code",
   "outputs": [
    {
     "name": "stdout",
     "output_type": "stream",
     "text": [
      "Lasso\n",
      "Лучшие параметры: {'alpha': 10}\n",
      "MSE: 548.5429686983891\n",
      "R2: -0.9508085128193435\n"
     ]
    }
   ],
   "source": [
    "lasso_params = {'alpha': [0.01, 0.1, 1, 10]}\n",
    "lasso = GridSearchCV(Lasso(), lasso_params, cv=5)\n",
    "lasso.fit(X_train, y_train[:, 0])\n",
    "\n",
    "y_pred_lasso = lasso.predict(X_test)\n",
    "mse_lasso = mean_squared_error(y_test[:, 0], y_pred_lasso)\n",
    "r2_lasso = r2_score(y_test[:, 0], y_pred_lasso)\n",
    "\n",
    "print(\"Lasso\")\n",
    "print(\"Лучшие параметры:\", lasso.best_params_)\n",
    "print(\"MSE:\", mse_lasso)\n",
    "print(\"R2:\", r2_lasso)"
   ],
   "metadata": {
    "collapsed": false,
    "ExecuteTime": {
     "end_time": "2024-11-03T21:57:28.926548960Z",
     "start_time": "2024-11-03T21:57:28.899743699Z"
    }
   },
   "id": "655d110f87e6f652",
   "execution_count": 19
  },
  {
   "cell_type": "markdown",
   "source": [
    "Модель LogisticRegression"
   ],
   "metadata": {
    "collapsed": false
   },
   "id": "9fc75e73e58a489e"
  },
  {
   "cell_type": "code",
   "outputs": [
    {
     "name": "stdout",
     "output_type": "stream",
     "text": [
      "LogisticRegression\n",
      "MSE: 0.5\n",
      "R2: -1.6666666666666665\n"
     ]
    }
   ],
   "source": [
    "log_reg = LogisticRegression(max_iter=1000)\n",
    "log_reg.fit(X_train, y_train[:, 0] > np.median(y_train[:, 0]))\n",
    "\n",
    "y_pred_log = log_reg.predict(X_test)\n",
    "y_true_binary = (y_test[:, 0] > np.median(y_train[:, 0])).astype(int)\n",
    "y_pred_binary = y_pred_log.astype(int)\n",
    "\n",
    "mse_log = mean_squared_error(y_true_binary, y_pred_binary)\n",
    "r2_log = r2_score(y_true_binary, y_pred_binary)\n",
    "\n",
    "print(\"LogisticRegression\")\n",
    "print(\"MSE:\", mse_log)\n",
    "print(\"R2:\", r2_log)"
   ],
   "metadata": {
    "collapsed": false,
    "ExecuteTime": {
     "end_time": "2024-11-03T21:57:28.967435951Z",
     "start_time": "2024-11-03T21:57:28.926643440Z"
    }
   },
   "id": "4faa6ba205196212",
   "execution_count": 20
  },
  {
   "cell_type": "markdown",
   "source": [],
   "metadata": {
    "collapsed": false
   },
   "id": "872c123395932dc9"
  },
  {
   "cell_type": "raw",
   "source": [
    "Сравнение результатов"
   ],
   "metadata": {
    "collapsed": false
   },
   "id": "6689e88d79292d46"
  },
  {
   "cell_type": "code",
   "outputs": [
    {
     "name": "stdout",
     "output_type": "stream",
     "text": [
      "                 Model         MSE  R2 Score\n",
      "0  KNeighborsRegressor  435.561224 -0.549006\n",
      "1     LinearRegression  630.775710 -1.243257\n",
      "2                Ridge  600.485925 -1.135536\n",
      "3                Lasso  548.542969 -0.950809\n",
      "4   LogisticRegression    0.500000 -1.666667\n"
     ]
    }
   ],
   "source": [
    "results = pd.DataFrame({\n",
    "    \"Model\": [\"KNeighborsRegressor\", \"LinearRegression\", \"Ridge\", \"Lasso\", \"LogisticRegression\"],\n",
    "    \"MSE\": [mse_knn, mse_lin, mse_ridge, mse_lasso, mse_log],\n",
    "    \"R2 Score\": [r2_knn, r2_lin, r2_ridge, r2_lasso, r2_log]\n",
    "})\n",
    "\n",
    "print(results)"
   ],
   "metadata": {
    "collapsed": false,
    "ExecuteTime": {
     "end_time": "2024-11-03T21:57:28.968131121Z",
     "start_time": "2024-11-03T21:57:28.967216154Z"
    }
   },
   "id": "81f2aa57e49d7b09",
   "execution_count": 21
  },
  {
   "cell_type": "markdown",
   "source": [
    "Вывод:\n",
    "\n",
    "Модели с более низким значением MSE обладают лучшей предсказательной способностью."
   ],
   "metadata": {
    "collapsed": false
   },
   "id": "cec092f401d9f7ef"
  }
 ],
 "metadata": {
  "kernelspec": {
   "display_name": "Python 3",
   "language": "python",
   "name": "python3"
  },
  "language_info": {
   "codemirror_mode": {
    "name": "ipython",
    "version": 2
   },
   "file_extension": ".py",
   "mimetype": "text/x-python",
   "name": "python",
   "nbconvert_exporter": "python",
   "pygments_lexer": "ipython2",
   "version": "2.7.6"
  }
 },
 "nbformat": 4,
 "nbformat_minor": 5
}
