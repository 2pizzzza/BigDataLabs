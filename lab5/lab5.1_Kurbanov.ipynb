{
 "cells": [
  {
   "cell_type": "code",
   "execution_count": 27,
   "id": "initial_id",
   "metadata": {
    "collapsed": true,
    "ExecuteTime": {
     "end_time": "2024-11-03T21:57:23.289672483Z",
     "start_time": "2024-11-03T21:57:23.272459580Z"
    }
   },
   "outputs": [],
   "source": [
    "import numpy as np\n",
    "import pandas as pd\n",
    "from sklearn.datasets import load_diabetes\n",
    "from sklearn.model_selection import train_test_split, GridSearchCV\n",
    "from sklearn.neighbors import KNeighborsRegressor\n",
    "from sklearn.linear_model import LinearRegression, Ridge, Lasso, LogisticRegression\n",
    "from sklearn.metrics import mean_squared_error, r2_score\n"
   ]
  },
  {
   "cell_type": "code",
   "outputs": [],
   "source": [
    "data = load_diabetes()\n",
    "X, y = data.data, data.target"
   ],
   "metadata": {
    "collapsed": false,
    "ExecuteTime": {
     "end_time": "2024-11-03T21:57:23.312787310Z",
     "start_time": "2024-11-03T21:57:23.290877090Z"
    }
   },
   "id": "ab0911fa202343b0",
   "execution_count": 28
  },
  {
   "cell_type": "code",
   "outputs": [],
   "source": [
    "X_train, X_test, y_train, y_test = train_test_split(X, y, test_size=0.2, random_state=42)"
   ],
   "metadata": {
    "collapsed": false,
    "ExecuteTime": {
     "end_time": "2024-11-03T21:57:23.314425429Z",
     "start_time": "2024-11-03T21:57:23.307047204Z"
    }
   },
   "id": "78a105d701fa34ad",
   "execution_count": 29
  },
  {
   "cell_type": "code",
   "outputs": [
    {
     "name": "stdout",
     "output_type": "stream",
     "text": [
      "        age       sex       bmi        bp        s1        s2        s3  \\\n",
      "0  0.038076  0.050680  0.061696  0.021872 -0.044223 -0.034821 -0.043401   \n",
      "1 -0.001882 -0.044642 -0.051474 -0.026328 -0.008449 -0.019163  0.074412   \n",
      "2  0.085299  0.050680  0.044451 -0.005670 -0.045599 -0.034194 -0.032356   \n",
      "3 -0.089063 -0.044642 -0.011595 -0.036656  0.012191  0.024991 -0.036038   \n",
      "4  0.005383 -0.044642 -0.036385  0.021872  0.003935  0.015596  0.008142   \n",
      "\n",
      "         s4        s5        s6  target  \n",
      "0 -0.002592  0.019907 -0.017646   151.0  \n",
      "1 -0.039493 -0.068332 -0.092204    75.0  \n",
      "2 -0.002592  0.002861 -0.025930   141.0  \n",
      "3  0.034309  0.022688 -0.009362   206.0  \n",
      "4 -0.002592 -0.031988 -0.046641   135.0  \n",
      "                age           sex           bmi            bp            s1  \\\n",
      "count  4.420000e+02  4.420000e+02  4.420000e+02  4.420000e+02  4.420000e+02   \n",
      "mean  -2.511817e-19  1.230790e-17 -2.245564e-16 -4.797570e-17 -1.381499e-17   \n",
      "std    4.761905e-02  4.761905e-02  4.761905e-02  4.761905e-02  4.761905e-02   \n",
      "min   -1.072256e-01 -4.464164e-02 -9.027530e-02 -1.123988e-01 -1.267807e-01   \n",
      "25%   -3.729927e-02 -4.464164e-02 -3.422907e-02 -3.665608e-02 -3.424784e-02   \n",
      "50%    5.383060e-03 -4.464164e-02 -7.283766e-03 -5.670422e-03 -4.320866e-03   \n",
      "75%    3.807591e-02  5.068012e-02  3.124802e-02  3.564379e-02  2.835801e-02   \n",
      "max    1.107267e-01  5.068012e-02  1.705552e-01  1.320436e-01  1.539137e-01   \n",
      "\n",
      "                 s2            s3            s4            s5            s6  \\\n",
      "count  4.420000e+02  4.420000e+02  4.420000e+02  4.420000e+02  4.420000e+02   \n",
      "mean   3.918434e-17 -5.777179e-18 -9.042540e-18  9.293722e-17  1.130318e-17   \n",
      "std    4.761905e-02  4.761905e-02  4.761905e-02  4.761905e-02  4.761905e-02   \n",
      "min   -1.156131e-01 -1.023071e-01 -7.639450e-02 -1.260971e-01 -1.377672e-01   \n",
      "25%   -3.035840e-02 -3.511716e-02 -3.949338e-02 -3.324559e-02 -3.317903e-02   \n",
      "50%   -3.819065e-03 -6.584468e-03 -2.592262e-03 -1.947171e-03 -1.077698e-03   \n",
      "75%    2.984439e-02  2.931150e-02  3.430886e-02  3.243232e-02  2.791705e-02   \n",
      "max    1.987880e-01  1.811791e-01  1.852344e-01  1.335973e-01  1.356118e-01   \n",
      "\n",
      "           target  \n",
      "count  442.000000  \n",
      "mean   152.133484  \n",
      "std     77.093005  \n",
      "min     25.000000  \n",
      "25%     87.000000  \n",
      "50%    140.500000  \n",
      "75%    211.500000  \n",
      "max    346.000000  \n"
     ]
    }
   ],
   "source": [
    "df = pd.DataFrame(X, columns=data.feature_names)\n",
    "df['target'] = y\n",
    "\n",
    "print(df.head())\n",
    "print(df.describe())"
   ],
   "metadata": {
    "collapsed": false,
    "ExecuteTime": {
     "end_time": "2024-11-03T21:57:23.322584667Z",
     "start_time": "2024-11-03T21:57:23.307152634Z"
    }
   },
   "id": "cd4b25e120f651b8",
   "execution_count": 30
  },
  {
   "cell_type": "markdown",
   "source": [
    "Модель KNeighborsRegressor"
   ],
   "metadata": {
    "collapsed": false
   },
   "id": "fc9f5ab07744752b"
  },
  {
   "cell_type": "code",
   "outputs": [
    {
     "name": "stdout",
     "output_type": "stream",
     "text": [
      "KNeighborsRegressor\n",
      "Лучшие параметры: {'n_neighbors': 9}\n",
      "MSE: 3082.937300596477\n",
      "R2: 0.41811079656983197\n"
     ]
    }
   ],
   "source": [
    "knn_params = {'n_neighbors': [3, 5, 7, 9]}\n",
    "knn = GridSearchCV(KNeighborsRegressor(), knn_params, cv=5)\n",
    "knn.fit(X_train, y_train)\n",
    "\n",
    "y_pred_knn = knn.predict(X_test)\n",
    "mse_knn = mean_squared_error(y_test, y_pred_knn)\n",
    "r2_knn = r2_score(y_test, y_pred_knn)\n",
    "\n",
    "print(\"KNeighborsRegressor\")\n",
    "print(\"Лучшие параметры:\", knn.best_params_)\n",
    "print(\"MSE:\", mse_knn)\n",
    "print(\"R2:\", r2_knn)"
   ],
   "metadata": {
    "collapsed": false,
    "ExecuteTime": {
     "end_time": "2024-11-03T21:57:23.363346921Z",
     "start_time": "2024-11-03T21:57:23.362085737Z"
    }
   },
   "id": "a280e6a65125882f",
   "execution_count": 31
  },
  {
   "cell_type": "raw",
   "source": [
    "Модель LinearRegression"
   ],
   "metadata": {
    "collapsed": false
   },
   "id": "814fa120f05750a6"
  },
  {
   "cell_type": "code",
   "outputs": [
    {
     "name": "stdout",
     "output_type": "stream",
     "text": [
      "LinearRegression\n",
      "MSE: 2900.193628493482\n",
      "R2: 0.4526027629719195\n"
     ]
    }
   ],
   "source": [
    "lin_reg = LinearRegression()\n",
    "lin_reg.fit(X_train, y_train)\n",
    "\n",
    "y_pred_lin = lin_reg.predict(X_test)\n",
    "mse_lin = mean_squared_error(y_test, y_pred_lin)\n",
    "r2_lin = r2_score(y_test, y_pred_lin)\n",
    "\n",
    "print(\"LinearRegression\")\n",
    "print(\"MSE:\", mse_lin)\n",
    "print(\"R2:\", r2_lin)"
   ],
   "metadata": {
    "collapsed": false,
    "ExecuteTime": {
     "end_time": "2024-11-03T21:57:23.370051407Z",
     "start_time": "2024-11-03T21:57:23.367782621Z"
    }
   },
   "id": "8b8c2a8355ae3bc7",
   "execution_count": 32
  },
  {
   "cell_type": "markdown",
   "source": [
    "Модель Ridge"
   ],
   "metadata": {
    "collapsed": false
   },
   "id": "193140137d16757f"
  },
  {
   "cell_type": "code",
   "outputs": [
    {
     "name": "stdout",
     "output_type": "stream",
     "text": [
      "Ridge\n",
      "Лучшие параметры: {'alpha': 0.1}\n",
      "MSE: 2856.4868876706537\n",
      "R2: 0.46085219464119265\n"
     ]
    }
   ],
   "source": [
    "ridge_params = {'alpha': [0.1, 1, 10, 100]}\n",
    "ridge = GridSearchCV(Ridge(), ridge_params, cv=5)\n",
    "ridge.fit(X_train, y_train)\n",
    "\n",
    "y_pred_ridge = ridge.predict(X_test)\n",
    "mse_ridge = mean_squared_error(y_test, y_pred_ridge)\n",
    "r2_ridge = r2_score(y_test, y_pred_ridge)\n",
    "\n",
    "print(\"Ridge\")\n",
    "print(\"Лучшие параметры:\", ridge.best_params_)\n",
    "print(\"MSE:\", mse_ridge)\n",
    "print(\"R2:\", r2_ridge)\n"
   ],
   "metadata": {
    "collapsed": false,
    "ExecuteTime": {
     "end_time": "2024-11-03T21:57:23.411329501Z",
     "start_time": "2024-11-03T21:57:23.370894708Z"
    }
   },
   "id": "2eac0c3a5c752b96",
   "execution_count": 33
  },
  {
   "cell_type": "raw",
   "source": [
    "Модель Lasso"
   ],
   "metadata": {
    "collapsed": false
   },
   "id": "b1e3b6454e765c1d"
  },
  {
   "cell_type": "code",
   "outputs": [
    {
     "name": "stdout",
     "output_type": "stream",
     "text": [
      "Lasso\n",
      "Лучшие параметры: {'alpha': 0.1}\n",
      "MSE: 2798.193485169719\n",
      "R2: 0.4718547867276227\n"
     ]
    }
   ],
   "source": [
    "lasso_params = {'alpha': [0.01, 0.1, 1, 10]}\n",
    "lasso = GridSearchCV(Lasso(), lasso_params, cv=5)\n",
    "lasso.fit(X_train, y_train)\n",
    "\n",
    "y_pred_lasso = lasso.predict(X_test)\n",
    "mse_lasso = mean_squared_error(y_test, y_pred_lasso)\n",
    "r2_lasso = r2_score(y_test, y_pred_lasso)\n",
    "\n",
    "print(\"Lasso\")\n",
    "print(\"Лучшие параметры:\", lasso.best_params_)\n",
    "print(\"MSE:\", mse_lasso)\n",
    "print(\"R2:\", r2_lasso)\n"
   ],
   "metadata": {
    "collapsed": false,
    "ExecuteTime": {
     "end_time": "2024-11-03T21:57:23.445893650Z",
     "start_time": "2024-11-03T21:57:23.411101418Z"
    }
   },
   "id": "abd8bda1a2fdfa4b",
   "execution_count": 34
  },
  {
   "cell_type": "markdown",
   "source": [
    "Модель LogisticRegression "
   ],
   "metadata": {
    "collapsed": false
   },
   "id": "8116d979ddf8900f"
  },
  {
   "cell_type": "code",
   "outputs": [
    {
     "name": "stdout",
     "output_type": "stream",
     "text": [
      "LogisticRegression\n",
      "MSE: 0.24719101123595505\n",
      "R2: 0.0010204081632650963\n"
     ]
    }
   ],
   "source": [
    "log_reg = LogisticRegression(max_iter=1000)\n",
    "log_reg.fit(X_train, y_train > np.median(y_train))  \n",
    "\n",
    "y_pred_log = log_reg.predict(X_test)\n",
    "y_true_binary = (y_test > np.median(y_train)).astype(int)\n",
    "y_pred_binary = y_pred_log.astype(int)\n",
    "\n",
    "\n",
    "mse_log = mean_squared_error(y_true_binary, y_pred_binary)\n",
    "r2_log = r2_score(y_true_binary, y_pred_binary)\n",
    "\n",
    "print(\"LogisticRegression\")\n",
    "print(\"MSE:\", mse_log)\n",
    "print(\"R2:\", r2_log)\n"
   ],
   "metadata": {
    "collapsed": false,
    "ExecuteTime": {
     "end_time": "2024-11-03T21:57:23.446575674Z",
     "start_time": "2024-11-03T21:57:23.435555406Z"
    }
   },
   "id": "fa49c8181853f077",
   "execution_count": 35
  },
  {
   "cell_type": "raw",
   "source": [
    "Сравнение результатов"
   ],
   "metadata": {
    "collapsed": false
   },
   "id": "e8e696898dc67de2"
  },
  {
   "cell_type": "code",
   "outputs": [
    {
     "name": "stdout",
     "output_type": "stream",
     "text": [
      "                 Model          MSE  R2 Score\n",
      "0  KNeighborsRegressor  3082.937301  0.418111\n",
      "1     LinearRegression  2900.193628  0.452603\n",
      "2                Ridge  2856.486888  0.460852\n",
      "3                Lasso  2798.193485  0.471855\n",
      "4   LogisticRegression     0.247191  0.001020\n"
     ]
    }
   ],
   "source": [
    "results = pd.DataFrame({\n",
    "    \"Model\": [\"KNeighborsRegressor\", \"LinearRegression\", \"Ridge\", \"Lasso\", \"LogisticRegression\"],\n",
    "    \"MSE\": [mse_knn, mse_lin, mse_ridge, mse_lasso, mse_log],\n",
    "    \"R2 Score\": [r2_knn, r2_lin, r2_ridge, r2_lasso, r2_log]\n",
    "})\n",
    "\n",
    "print(results)\n"
   ],
   "metadata": {
    "collapsed": false,
    "ExecuteTime": {
     "end_time": "2024-11-03T21:57:23.447040166Z",
     "start_time": "2024-11-03T21:57:23.440430129Z"
    }
   },
   "id": "4dc2165d248a4e8d",
   "execution_count": 36
  },
  {
   "cell_type": "markdown",
   "source": [
    "Вывод:\n",
    "\n",
    "Модели с более низким значением MSE обладают лучшей предсказательной способностью."
   ],
   "metadata": {
    "collapsed": false
   },
   "id": "34f1a4b980334710"
  }
 ],
 "metadata": {
  "kernelspec": {
   "display_name": "Python 3",
   "language": "python",
   "name": "python3"
  },
  "language_info": {
   "codemirror_mode": {
    "name": "ipython",
    "version": 2
   },
   "file_extension": ".py",
   "mimetype": "text/x-python",
   "name": "python",
   "nbconvert_exporter": "python",
   "pygments_lexer": "ipython2",
   "version": "2.7.6"
  }
 },
 "nbformat": 4,
 "nbformat_minor": 5
}
