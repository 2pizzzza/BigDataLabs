{
 "cells": [
  {
   "cell_type": "code",
   "execution_count": 32,
   "id": "2919ee32-bebd-490c-9324-be18f89cd21e",
   "metadata": {
    "ExecuteTime": {
     "end_time": "2024-10-01T20:20:41.574321821Z",
     "start_time": "2024-10-01T20:20:41.554526611Z"
    }
   },
   "outputs": [],
   "source": [
    "import numpy as np\n",
    "import pandas as pd"
   ]
  },
  {
   "cell_type": "code",
   "execution_count": 33,
   "id": "36547897-c93b-4aeb-baf8-3d78120253a8",
   "metadata": {
    "ExecuteTime": {
     "end_time": "2024-10-01T20:20:41.793774328Z",
     "start_time": "2024-10-01T20:20:41.577434829Z"
    }
   },
   "outputs": [
    {
     "data": {
      "text/plain": "array([1, 2, 3])"
     },
     "execution_count": 33,
     "metadata": {},
     "output_type": "execute_result"
    }
   ],
   "source": [
    "arr = np.array([1, 2, 3])\n",
    "arr"
   ]
  },
  {
   "cell_type": "code",
   "execution_count": 34,
   "id": "9fa1abce-4d90-4cb5-a537-ff9bc6a8df0d",
   "metadata": {
    "ExecuteTime": {
     "end_time": "2024-10-01T20:20:41.811410172Z",
     "start_time": "2024-10-01T20:20:41.765667558Z"
    }
   },
   "outputs": [
    {
     "data": {
      "text/plain": "array([[2.3, 1.4],\n       [0.3, 2.2]])"
     },
     "execution_count": 34,
     "metadata": {},
     "output_type": "execute_result"
    }
   ],
   "source": [
    "temp = np.array([[2.3, 1.4], [0.3,2.2]])\n",
    "temp"
   ]
  },
  {
   "cell_type": "code",
   "execution_count": 35,
   "id": "fbe5fb3b-049f-4fe1-8fc9-e2fed39033f0",
   "metadata": {
    "ExecuteTime": {
     "end_time": "2024-10-01T20:20:41.847428812Z",
     "start_time": "2024-10-01T20:20:41.814606548Z"
    }
   },
   "outputs": [
    {
     "data": {
      "text/plain": "array([[1, 2, 3],\n       [4, 5, 6]])"
     },
     "execution_count": 35,
     "metadata": {},
     "output_type": "execute_result"
    }
   ],
   "source": [
    "c = np.array([[1,2,3],[4,5,6]])\n",
    "c"
   ]
  },
  {
   "cell_type": "code",
   "execution_count": 36,
   "id": "b6dcdc93-3468-4901-abef-f3e7ced525ea",
   "metadata": {
    "ExecuteTime": {
     "end_time": "2024-10-01T20:20:41.866736865Z",
     "start_time": "2024-10-01T20:20:41.847658228Z"
    }
   },
   "outputs": [
    {
     "data": {
      "text/plain": "array([[1, 2, 3],\n       [4, 5, 6]])"
     },
     "execution_count": 36,
     "metadata": {},
     "output_type": "execute_result"
    }
   ],
   "source": [
    "d = np.array(((1,2,3),(4,5,6)))\n",
    "d"
   ]
  },
  {
   "cell_type": "code",
   "execution_count": 37,
   "id": "8ffcaeaf-b71b-4ca0-9d66-f8d5df22c455",
   "metadata": {
    "ExecuteTime": {
     "end_time": "2024-10-01T20:20:41.876746774Z",
     "start_time": "2024-10-01T20:20:41.866073374Z"
    }
   },
   "outputs": [
    {
     "data": {
      "text/plain": "array([[1, 2, 3],\n       [4, 5, 6],\n       [9, 8, 7]])"
     },
     "execution_count": 37,
     "metadata": {},
     "output_type": "execute_result"
    }
   ],
   "source": [
    "e = np.array([(1,2,3), [4,5,6], (9,8,7)])\n",
    "e"
   ]
  },
  {
   "cell_type": "code",
   "execution_count": 38,
   "id": "cdadf99e-440d-451a-b474-bb5a0581e239",
   "metadata": {
    "ExecuteTime": {
     "end_time": "2024-10-01T20:20:41.899320275Z",
     "start_time": "2024-10-01T20:20:41.876374786Z"
    }
   },
   "outputs": [
    {
     "data": {
      "text/plain": "array([[1., 2., 3., 7.],\n       [4., 5., 6., 8.]])"
     },
     "execution_count": 38,
     "metadata": {},
     "output_type": "execute_result"
    }
   ],
   "source": [
    "d = np.array(((1,2,3,7),(4,5,6,8)),dtype=float)\n",
    "d"
   ]
  },
  {
   "cell_type": "code",
   "execution_count": 39,
   "id": "c30f0c82-03f8-4c40-b08e-4a951affd149",
   "metadata": {
    "ExecuteTime": {
     "end_time": "2024-10-01T20:20:41.910272464Z",
     "start_time": "2024-10-01T20:20:41.898517268Z"
    }
   },
   "outputs": [
    {
     "data": {
      "text/plain": "array([[1., 1., 1.],\n       [1., 1., 1.],\n       [1., 1., 1.]])"
     },
     "execution_count": 39,
     "metadata": {},
     "output_type": "execute_result"
    }
   ],
   "source": [
    "f = np.ones((3,3))\n",
    "f"
   ]
  },
  {
   "cell_type": "code",
   "execution_count": 40,
   "id": "8a3a3b0f-784c-4476-b35d-6218a5947e81",
   "metadata": {
    "ExecuteTime": {
     "end_time": "2024-10-01T20:20:41.919090336Z",
     "start_time": "2024-10-01T20:20:41.903001733Z"
    }
   },
   "outputs": [
    {
     "data": {
      "text/plain": "array([[0., 0., 0.],\n       [0., 0., 0.],\n       [0., 0., 0.]])"
     },
     "execution_count": 40,
     "metadata": {},
     "output_type": "execute_result"
    }
   ],
   "source": [
    "f = np.zeros((3,3))\n",
    "f"
   ]
  },
  {
   "cell_type": "code",
   "execution_count": 41,
   "id": "182d4956-2881-471d-b97e-90c334023be2",
   "metadata": {
    "ExecuteTime": {
     "end_time": "2024-10-01T20:20:41.920261833Z",
     "start_time": "2024-10-01T20:20:41.913141939Z"
    }
   },
   "outputs": [
    {
     "data": {
      "text/plain": "array([1, 2, 3, 4, 5, 6, 7, 8, 9])"
     },
     "execution_count": 41,
     "metadata": {},
     "output_type": "execute_result"
    }
   ],
   "source": [
    "np.arange(1,10)"
   ]
  },
  {
   "cell_type": "code",
   "execution_count": 42,
   "id": "e59813fa-c9a6-4d62-b511-5387b653d612",
   "metadata": {
    "ExecuteTime": {
     "end_time": "2024-10-01T20:20:41.946242010Z",
     "start_time": "2024-10-01T20:20:41.919479686Z"
    }
   },
   "outputs": [
    {
     "data": {
      "text/plain": "array([ 5, 10, 15, 20, 25, 30, 35, 40, 45, 50, 55, 60, 65, 70, 75, 80, 85,\n       90, 95])"
     },
     "execution_count": 42,
     "metadata": {},
     "output_type": "execute_result"
    }
   ],
   "source": [
    "np.arange(5,100,5)"
   ]
  },
  {
   "cell_type": "code",
   "execution_count": 43,
   "id": "e84c363f-d630-4720-a41d-47d4781c3e44",
   "metadata": {
    "ExecuteTime": {
     "end_time": "2024-10-01T20:20:41.957506173Z",
     "start_time": "2024-10-01T20:20:41.945982547Z"
    }
   },
   "outputs": [
    {
     "data": {
      "text/plain": "array([[2. , 2.1, 2.2, 2.3, 2.4, 2.5, 2.6, 2.7, 2.8, 2.9],\n       [3. , 3.1, 3.2, 3.3, 3.4, 3.5, 3.6, 3.7, 3.8, 3.9],\n       [4. , 4.1, 4.2, 4.3, 4.4, 4.5, 4.6, 4.7, 4.8, 4.9],\n       [5. , 5.1, 5.2, 5.3, 5.4, 5.5, 5.6, 5.7, 5.8, 5.9],\n       [6. , 6.1, 6.2, 6.3, 6.4, 6.5, 6.6, 6.7, 6.8, 6.9],\n       [7. , 7.1, 7.2, 7.3, 7.4, 7.5, 7.6, 7.7, 7.8, 7.9],\n       [8. , 8.1, 8.2, 8.3, 8.4, 8.5, 8.6, 8.7, 8.8, 8.9],\n       [9. , 9.1, 9.2, 9.3, 9.4, 9.5, 9.6, 9.7, 9.8, 9.9]])"
     },
     "execution_count": 43,
     "metadata": {},
     "output_type": "execute_result"
    }
   ],
   "source": [
    "np.arange(2,10,0.1).reshape(8,10)"
   ]
  },
  {
   "cell_type": "code",
   "execution_count": 44,
   "id": "14555049-3b5a-44c1-a4b4-20ebeedbcfe9",
   "metadata": {
    "ExecuteTime": {
     "end_time": "2024-10-01T20:20:41.961035021Z",
     "start_time": "2024-10-01T20:20:41.956598076Z"
    }
   },
   "outputs": [
    {
     "data": {
      "text/plain": "array([0. , 3.5, 7. ])"
     },
     "execution_count": 44,
     "metadata": {},
     "output_type": "execute_result"
    }
   ],
   "source": [
    "np.linspace(0,7,3)"
   ]
  },
  {
   "cell_type": "code",
   "execution_count": 45,
   "id": "ea089e4b-7fce-4df9-a19e-3f9141ec2f31",
   "metadata": {
    "ExecuteTime": {
     "end_time": "2024-10-01T20:20:41.994116226Z",
     "start_time": "2024-10-01T20:20:41.960629009Z"
    }
   },
   "outputs": [
    {
     "data": {
      "text/plain": "array([[0.8879138 , 0.33440112, 0.00831898],\n       [0.69750431, 0.55124562, 0.51740749],\n       [0.1196375 , 0.9351955 , 0.37132034]])"
     },
     "execution_count": 45,
     "metadata": {},
     "output_type": "execute_result"
    }
   ],
   "source": [
    "np.random.random((3,3))"
   ]
  },
  {
   "cell_type": "code",
   "execution_count": 46,
   "id": "cb6a3fe3-102f-4fce-bd68-dd58b6afc6b3",
   "metadata": {
    "ExecuteTime": {
     "end_time": "2024-10-01T20:20:42.006460863Z",
     "start_time": "2024-10-01T20:20:41.968359775Z"
    }
   },
   "outputs": [
    {
     "name": "stdout",
     "output_type": "stream",
     "text": [
      "zeros : [0. 0. 0. 0. 0. 0. 0. 0. 0. 0.]\n",
      "ones : [1. 1. 1. 1. 1. 1. 1. 1. 1. 1.]\n",
      "arrange_1 : [0 1 2 3 4 5 6 7 8 9]\n",
      "linspace_1 : [0.   0.25 0.5  0.75 1.  ]\n"
     ]
    }
   ],
   "source": [
    "z = np.zeros(10)\n",
    "o = np.ones(10)\n",
    "arrange_1 = np.arange(10)\n",
    "linspace_1 = np.linspace(0,1,5)\n",
    "print(\"zeros :\", z)\n",
    "print(\"ones :\", o)\n",
    "print(\"arrange_1 :\", arrange_1)\n",
    "print(\"linspace_1 :\", linspace_1)"
   ]
  },
  {
   "cell_type": "code",
   "execution_count": 47,
   "id": "81839edc-6f44-4ac9-a524-067a8c0c3e94",
   "metadata": {
    "ExecuteTime": {
     "end_time": "2024-10-01T20:20:42.007342499Z",
     "start_time": "2024-10-01T20:20:41.994382212Z"
    }
   },
   "outputs": [
    {
     "name": "stdout",
     "output_type": "stream",
     "text": [
      "[1. 1. 1. 1. 1. 1. 1. 1. 1. 1.]\n",
      "[0. 1. 2. 3. 4. 5. 6. 7. 8. 9.]\n",
      "[       inf 1.         0.5        0.33333333 0.25       0.2\n",
      " 0.16666667 0.14285714 0.125      0.11111111]\n"
     ]
    },
    {
     "name": "stderr",
     "output_type": "stream",
     "text": [
      "/tmp/ipykernel_27544/2512165338.py:4: RuntimeWarning: divide by zero encountered in divide\n",
      "  print(ones/arrange_1)\n"
     ]
    }
   ],
   "source": [
    "arrange_1_safe = np.where(arrange_1 == 0, 1e-10, arrange_1)\n",
    "print(o+z)\n",
    "print(o*arrange_1)\n",
    "print(o/arrange_1)"
   ]
  },
  {
   "cell_type": "code",
   "execution_count": 48,
   "id": "c8633369-4108-44bb-a422-8dcebea0b9be",
   "metadata": {
    "ExecuteTime": {
     "end_time": "2024-10-01T20:20:42.020333434Z",
     "start_time": "2024-10-01T20:20:41.998543883Z"
    }
   },
   "outputs": [
    {
     "data": {
      "text/plain": "array([[0, 1, 2, 3, 4, 5]])"
     },
     "execution_count": 48,
     "metadata": {},
     "output_type": "execute_result"
    }
   ],
   "source": [
    "a = np.arange(6)\n",
    "a = a[np.newaxis, : ]\n",
    "a"
   ]
  },
  {
   "cell_type": "code",
   "execution_count": 49,
   "id": "42877d84-9efc-464b-b413-5601267ded05",
   "metadata": {
    "ExecuteTime": {
     "end_time": "2024-10-01T20:20:42.060957578Z",
     "start_time": "2024-10-01T20:20:42.009774662Z"
    }
   },
   "outputs": [
    {
     "data": {
      "text/plain": "   int_col  float_col str_col\n0        0        0.0     asd\n1        1        0.0    asdd\n2        2        0.0     dsa\n3        3        0.0    wasd\n4        4        0.0       s\n5        5        0.0    asdf\n6        6        0.0     qwe\n7        7        0.0       w\n8        8        0.0    None\n9        9        0.0      10",
      "text/html": "<div>\n<style scoped>\n    .dataframe tbody tr th:only-of-type {\n        vertical-align: middle;\n    }\n\n    .dataframe tbody tr th {\n        vertical-align: top;\n    }\n\n    .dataframe thead th {\n        text-align: right;\n    }\n</style>\n<table border=\"1\" class=\"dataframe\">\n  <thead>\n    <tr style=\"text-align: right;\">\n      <th></th>\n      <th>int_col</th>\n      <th>float_col</th>\n      <th>str_col</th>\n    </tr>\n  </thead>\n  <tbody>\n    <tr>\n      <th>0</th>\n      <td>0</td>\n      <td>0.0</td>\n      <td>asd</td>\n    </tr>\n    <tr>\n      <th>1</th>\n      <td>1</td>\n      <td>0.0</td>\n      <td>asdd</td>\n    </tr>\n    <tr>\n      <th>2</th>\n      <td>2</td>\n      <td>0.0</td>\n      <td>dsa</td>\n    </tr>\n    <tr>\n      <th>3</th>\n      <td>3</td>\n      <td>0.0</td>\n      <td>wasd</td>\n    </tr>\n    <tr>\n      <th>4</th>\n      <td>4</td>\n      <td>0.0</td>\n      <td>s</td>\n    </tr>\n    <tr>\n      <th>5</th>\n      <td>5</td>\n      <td>0.0</td>\n      <td>asdf</td>\n    </tr>\n    <tr>\n      <th>6</th>\n      <td>6</td>\n      <td>0.0</td>\n      <td>qwe</td>\n    </tr>\n    <tr>\n      <th>7</th>\n      <td>7</td>\n      <td>0.0</td>\n      <td>w</td>\n    </tr>\n    <tr>\n      <th>8</th>\n      <td>8</td>\n      <td>0.0</td>\n      <td>None</td>\n    </tr>\n    <tr>\n      <th>9</th>\n      <td>9</td>\n      <td>0.0</td>\n      <td>10</td>\n    </tr>\n  </tbody>\n</table>\n</div>"
     },
     "execution_count": 49,
     "metadata": {},
     "output_type": "execute_result"
    }
   ],
   "source": [
    "df = pd.DataFrame({\"int_col\" : arrange_1, \"float_col\" : z, \"str_col\" :  [\"asd\", \"asdd\", \"dsa\", \"wasd\", \"s\",\"asdf\",\"qwe\", 'w',None, \"10\"]})\n",
    "df"
   ]
  },
  {
   "cell_type": "code",
   "execution_count": 50,
   "id": "44a7f830-ce5f-4502-8486-33ff3068f5e9",
   "metadata": {
    "ExecuteTime": {
     "end_time": "2024-10-01T20:20:42.061707654Z",
     "start_time": "2024-10-01T20:20:42.020658552Z"
    }
   },
   "outputs": [
    {
     "data": {
      "text/plain": "array([  5,  10,  15,  20,  25,  30,  35,  40,  45,  50,  55,  60,  65,\n        70,  75,  80,  85,  90,  95, 100])"
     },
     "execution_count": 50,
     "metadata": {},
     "output_type": "execute_result"
    }
   ],
   "source": [
    "## Tasks\n",
    "my_array = np.arange(5,101,5)\n",
    "my_array"
   ]
  },
  {
   "cell_type": "code",
   "execution_count": 51,
   "id": "ed9235f5-02e8-4b97-9628-a7ec07e8a279",
   "metadata": {
    "ExecuteTime": {
     "end_time": "2024-10-01T20:20:42.078997150Z",
     "start_time": "2024-10-01T20:20:42.060639994Z"
    }
   },
   "outputs": [
    {
     "data": {
      "text/plain": "array([ 10,  20,  30,  40,  50,  60,  70,  80,  90, 100])"
     },
     "execution_count": 51,
     "metadata": {},
     "output_type": "execute_result"
    }
   ],
   "source": [
    "array2 = my_array[my_array%10==0]\n",
    "array2"
   ]
  },
  {
   "cell_type": "code",
   "execution_count": 52,
   "id": "a5021e82-f785-44df-9099-ab46acfaf344",
   "metadata": {
    "ExecuteTime": {
     "end_time": "2024-10-01T20:20:42.116691445Z",
     "start_time": "2024-10-01T20:20:42.078762875Z"
    }
   },
   "outputs": [
    {
     "data": {
      "text/plain": "array([[ 10,  20],\n       [ 30,  40],\n       [ 50,  60],\n       [ 70,  80],\n       [ 90, 100]])"
     },
     "execution_count": 52,
     "metadata": {},
     "output_type": "execute_result"
    }
   ],
   "source": [
    "arr2d = array2.reshape(-1, 2)\n",
    "arr2d"
   ]
  },
  {
   "cell_type": "code",
   "execution_count": 53,
   "id": "e90d5605-a055-493d-9d62-fd32860935dd",
   "metadata": {
    "ExecuteTime": {
     "end_time": "2024-10-01T20:20:42.134289648Z",
     "start_time": "2024-10-01T20:20:42.116103417Z"
    }
   },
   "outputs": [
    {
     "data": {
      "text/plain": "array([[ 5, 15],\n       [25, 35],\n       [45, 55],\n       [65, 75],\n       [85, 95]])"
     },
     "execution_count": 53,
     "metadata": {},
     "output_type": "execute_result"
    }
   ],
   "source": [
    "arr2d5 = arr2d-5\n",
    "arr2d5"
   ]
  },
  {
   "cell_type": "code",
   "execution_count": 54,
   "id": "00f60b2c-203d-49d2-8083-d36df77199c5",
   "metadata": {
    "ExecuteTime": {
     "end_time": "2024-10-01T20:20:42.149378090Z",
     "start_time": "2024-10-01T20:20:42.134011078Z"
    }
   },
   "outputs": [
    {
     "data": {
      "text/plain": "array([[ 10,  20,   5,  15],\n       [ 30,  40,  25,  35],\n       [ 50,  60,  45,  55],\n       [ 70,  80,  65,  75],\n       [ 90, 100,  85,  95]])"
     },
     "execution_count": 54,
     "metadata": {},
     "output_type": "execute_result"
    }
   ],
   "source": [
    "twoArrs = np.hstack((arr2d,arr2d5))\n",
    "# twoArrs = twoArrs.T\n",
    "twoArrs"
   ]
  },
  {
   "cell_type": "code",
   "execution_count": 55,
   "id": "25d09076-9056-48fd-b8a4-8a3139fad1a1",
   "metadata": {
    "ExecuteTime": {
     "end_time": "2024-10-01T20:20:42.158951218Z",
     "start_time": "2024-10-01T20:20:42.137400211Z"
    }
   },
   "outputs": [],
   "source": [
    "\n",
    "division_result = twoArrs[1] / twoArrs[3]\n",
    "division_result1 = twoArrs[2] / twoArrs[3]\n"
   ]
  },
  {
   "cell_type": "code",
   "execution_count": 56,
   "id": "a4b1708a-e8f2-4327-bfa4-274ba59236f9",
   "metadata": {
    "ExecuteTime": {
     "end_time": "2024-10-01T20:20:42.159667019Z",
     "start_time": "2024-10-01T20:20:42.152268635Z"
    }
   },
   "outputs": [
    {
     "name": "stdout",
     "output_type": "stream",
     "text": [
      "[[ 10.          20.           5.          15.        ]\n",
      " [  0.42857143   0.5          0.38461538   0.46666667]\n",
      " [  0.71428571   0.75         0.69230769   0.73333333]\n",
      " [ 70.          80.          65.          75.        ]\n",
      " [ 90.         100.          85.          95.        ]]\n"
     ]
    }
   ],
   "source": [
    "\n",
    "twoArrsCopy = twoArrs.copy().astype(float)\n",
    "twoArrsCopy[1] = division_result\n",
    "twoArrsCopy[2] = division_result1\n",
    "# twoArrsCopy = twoArrsCopy.T\n",
    "print(twoArrsCopy)\n"
   ]
  },
  {
   "cell_type": "code",
   "execution_count": 57,
   "id": "5658e74a-1bae-4b1d-b995-e65eaf760fe9",
   "metadata": {
    "ExecuteTime": {
     "end_time": "2024-10-01T20:20:42.172893672Z",
     "start_time": "2024-10-01T20:20:42.159229417Z"
    }
   },
   "outputs": [
    {
     "data": {
      "text/plain": "array([[ 10.,  20.,   5.,  15.],\n       [ 70.,  80.,  65.,  75.],\n       [ 90., 100.,  85.,  95.]])"
     },
     "execution_count": 57,
     "metadata": {},
     "output_type": "execute_result"
    }
   ],
   "source": [
    "# Задание 7\n",
    "#Оставить только те значения, которые не изменились после деления\n",
    "\n",
    "rows_equal = np.all(twoArrsCopy == twoArrs, axis=1)\n",
    "\n",
    "leftover = twoArrsCopy[rows_equal]\n",
    "\n",
    "leftover"
   ]
  },
  {
   "cell_type": "code",
   "execution_count": 58,
   "id": "791dedf3-f877-440e-8a2e-7f206bb9a3a9",
   "metadata": {
    "ExecuteTime": {
     "end_time": "2024-10-01T20:20:42.181320210Z",
     "start_time": "2024-10-01T20:20:42.172663164Z"
    }
   },
   "outputs": [
    {
     "data": {
      "text/plain": "array([[ 90., 100.,  85.,  95.],\n       [ 70.,  80.,  65.,  75.],\n       [ 10.,  20.,   5.,  15.]])"
     },
     "execution_count": 58,
     "metadata": {},
     "output_type": "execute_result"
    }
   ],
   "source": [
    "leftover[[0, 2]] = leftover[[2, 0]]\n",
    "leftover"
   ]
  },
  {
   "cell_type": "code",
   "execution_count": 59,
   "id": "118d92b3-f10d-463c-bc29-c19e7e59731a",
   "metadata": {
    "ExecuteTime": {
     "end_time": "2024-10-01T20:20:42.184357284Z",
     "start_time": "2024-10-01T20:20:42.180507145Z"
    }
   },
   "outputs": [
    {
     "name": "stdout",
     "output_type": "stream",
     "text": [
      "Mean: [92.5 72.5 12.5]\n",
      "Median: [92.5 72.5 12.5]\n",
      "STD: [5.59016994 5.59016994 5.59016994]\n"
     ]
    }
   ],
   "source": [
    "#9.1.\tПолучить среднее, медиану и стандартное отклонение для каждой строки, используя команды np.mean(), np.median(), np.std().\n",
    "mean_values = np.mean(leftover, axis=1)\n",
    "\n",
    "median_values = np.median(leftover, axis=1)\n",
    "\n",
    "std_values = np.std(leftover, axis=1)\n",
    "\n",
    "print(\"Mean:\", mean_values)\n",
    "print(\"Median:\", median_values)\n",
    "print(\"STD:\", std_values)"
   ]
  },
  {
   "cell_type": "code",
   "execution_count": 60,
   "id": "cbc2fe4f-5ad1-49cd-bd04-4b821e6efce2",
   "metadata": {
    "ExecuteTime": {
     "end_time": "2024-10-01T20:20:42.225309151Z",
     "start_time": "2024-10-01T20:20:42.184048707Z"
    }
   },
   "outputs": [
    {
     "name": "stdout",
     "output_type": "stream",
     "text": [
      "[[100.]\n",
      " [ 80.]\n",
      " [ 20.]]\n",
      "[[0.9    1.     0.85   0.95  ]\n",
      " [0.875  1.     0.8125 0.9375]\n",
      " [0.5    1.     0.25   0.75  ]]\n"
     ]
    }
   ],
   "source": [
    "max_val = np.max(leftover, axis=1, keepdims=True)\n",
    "\n",
    "normalized_result = leftover / max_val\n",
    "print(max_val)\n",
    "print(normalized_result)"
   ]
  },
  {
   "cell_type": "code",
   "execution_count": 60,
   "id": "b177eda4-0081-48bc-ba5f-ce1eeebb3b91",
   "metadata": {
    "ExecuteTime": {
     "end_time": "2024-10-01T20:20:42.226707429Z",
     "start_time": "2024-10-01T20:20:42.225012316Z"
    }
   },
   "outputs": [],
   "source": []
  }
 ],
 "metadata": {
  "kernelspec": {
   "display_name": "Python 3 (ipykernel)",
   "language": "python",
   "name": "python3"
  },
  "language_info": {
   "codemirror_mode": {
    "name": "ipython",
    "version": 3
   },
   "file_extension": ".py",
   "mimetype": "text/x-python",
   "name": "python",
   "nbconvert_exporter": "python",
   "pygments_lexer": "ipython3",
   "version": "3.12.5"
  }
 },
 "nbformat": 4,
 "nbformat_minor": 5
}
